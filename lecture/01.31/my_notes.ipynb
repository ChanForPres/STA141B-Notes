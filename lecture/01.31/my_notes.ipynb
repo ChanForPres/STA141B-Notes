{
 "cells": [
  {
   "cell_type": "markdown",
   "metadata": {},
   "source": [
    "# STA 141B Lecture 8\n",
    "\n",
    "The class website is <https://github.com/2019-winter-ucdavis-sta141b/notes>\n",
    "\n",
    "### Announcements\n",
    "\n",
    "* Links to sample projects posted in Project Description\n",
    "* Assignment 1 grades posted soon\n",
    "\n",
    "### Topics\n",
    "\n",
    "* Query Strings\n",
    "* API Keys\n",
    "* Undocumented APIs\n",
    "\n",
    "### Datasets\n",
    "\n",
    "* [iTunes Search API](https://affiliate.itunes.apple.com/resources/documentation/itunes-store-web-service-search-api/)\n",
    "* [The Guardian API](https://open-platform.theguardian.com/)\n",
    "* [Yolo County Health Inspections](https://yoloeco.envisionconnect.com/)\n",
    "\n",
    "\n",
    "### References\n",
    "\n",
    "* [__requests__ documentation](http://docs.python-requests.org/en/master/)\n",
    "* Python for Data Analysis, Ch. 6\n",
    "\n",
    "[PDSH]: https://jakevdp.github.io/PythonDataScienceHandbook/\n",
    "[ProGit]: https://git-scm.com/book/"
   ]
  },
  {
   "cell_type": "markdown",
   "metadata": {},
   "source": [
    "## Example Questions\n",
    "\n",
    "1. Approximately how many remixes are there of PSY's Gangnam Style?\n",
    "2. Did Clinton or Trump get more newspaper coverage in the days leading up to the 2016 U.S. presidential election?"
   ]
  },
  {
   "cell_type": "markdown",
   "metadata": {},
   "source": [
    "## Query Strings\n",
    "\n",
    "Most of the functions we use have parameters, and you can pass arguments for those parameters when you call a function.\n",
    "\n",
    "Endpoints in REST APIs work the same way, but the syntax is different. You can pass arguments by adding `?PARAMETER=ARGUMENT` to the end of the URL. Parameter and argument pairs are separated by `&`. This syntax is called a _query string_.\n",
    "\n",
    "For instance, Apple provides a web API for the iTunes store, with [documentation](https://affiliate.itunes.apple.com/resources/documentation/itunes-store-web-service-search-api/). We can use this to answer the example question about Gangnam Style.\n",
    "\n",
    "The search endpoint is `https://itunes.apple.com/search`, and the documentation lists several parameters. We can use __requests__ to build the query string automatically."
   ]
  },
  {
   "cell_type": "code",
   "execution_count": 117,
   "metadata": {},
   "outputs": [],
   "source": [
    "import requests as req\n",
    "import pandas as pd\n",
    "import numpy as np\n",
    "import time"
   ]
  },
  {
   "cell_type": "code",
   "execution_count": null,
   "metadata": {},
   "outputs": [],
   "source": []
  },
  {
   "cell_type": "code",
   "execution_count": 126,
   "metadata": {},
   "outputs": [],
   "source": [
    "res = requests.get('https://itunes.apple.com/search?',params={'term':'Gangnam Style','country':'US'})\n",
    "res.url\n",
    "res.status_code\n",
    "itunes_data = res.json()\n",
    "#requests.post('https://itunes.apple.com/search?',data={'key':'value'})"
   ]
  },
  {
   "cell_type": "code",
   "execution_count": 130,
   "metadata": {},
   "outputs": [
    {
     "data": {
      "text/plain": [
       "dict_keys(['resultCount', 'results'])"
      ]
     },
     "execution_count": 130,
     "metadata": {},
     "output_type": "execute_result"
    }
   ],
   "source": [
    "len(itunes_data)\n",
    "itunes_data.keys()\n"
   ]
  },
  {
   "cell_type": "code",
   "execution_count": 149,
   "metadata": {},
   "outputs": [
    {
     "data": {
      "text/plain": [
       "dict_keys(['wrapperType', 'kind', 'artistId', 'collectionId', 'trackId', 'artistName', 'collectionName', 'trackName', 'collectionCensoredName', 'trackCensoredName', 'artistViewUrl', 'collectionViewUrl', 'trackViewUrl', 'previewUrl', 'artworkUrl30', 'artworkUrl60', 'artworkUrl100', 'collectionPrice', 'trackPrice', 'releaseDate', 'collectionExplicitness', 'trackExplicitness', 'discCount', 'discNumber', 'trackCount', 'trackNumber', 'trackTimeMillis', 'country', 'currency', 'primaryGenreName', 'isStreamable'])"
      ]
     },
     "execution_count": 149,
     "metadata": {},
     "output_type": "execute_result"
    }
   ],
   "source": [
    "itunes_data['resultCount']\n",
    "results = itunes_data['results']\n",
    "results[0].keys()"
   ]
  },
  {
   "cell_type": "code",
   "execution_count": 157,
   "metadata": {},
   "outputs": [
    {
     "data": {
      "text/plain": [
       "dict_keys(['wrapperType', 'kind', 'artistId', 'collectionId', 'trackId', 'artistName', 'collectionName', 'trackName', 'collectionCensoredName', 'trackCensoredName', 'artistViewUrl', 'collectionViewUrl', 'trackViewUrl', 'previewUrl', 'artworkUrl30', 'artworkUrl60', 'artworkUrl100', 'collectionPrice', 'trackPrice', 'releaseDate', 'collectionExplicitness', 'trackExplicitness', 'discCount', 'discNumber', 'trackCount', 'trackNumber', 'trackTimeMillis', 'country', 'currency', 'primaryGenreName', 'isStreamable'])"
      ]
     },
     "execution_count": 157,
     "metadata": {},
     "output_type": "execute_result"
    }
   ],
   "source": [
    "df = pd.Series(results[0].keys())\n",
    "df[1]"
   ]
  },
  {
   "cell_type": "markdown",
   "metadata": {},
   "source": [
    "Every response has a `.url` attribute that shows the URL used for the request."
   ]
  },
  {
   "cell_type": "code",
   "execution_count": 119,
   "metadata": {},
   "outputs": [
    {
     "ename": "NameError",
     "evalue": "name 'response' is not defined",
     "output_type": "error",
     "traceback": [
      "\u001b[0;31m---------------------------------------------------------------------------\u001b[0m",
      "\u001b[0;31mNameError\u001b[0m                                 Traceback (most recent call last)",
      "\u001b[0;32m<ipython-input-119-30a267017102>\u001b[0m in \u001b[0;36m<module>\u001b[0;34m\u001b[0m\n\u001b[0;32m----> 1\u001b[0;31m \u001b[0mres\u001b[0m \u001b[0;34m=\u001b[0m \u001b[0mresponse\u001b[0m\u001b[0;34m.\u001b[0m\u001b[0mjson\u001b[0m\u001b[0;34m(\u001b[0m\u001b[0;34m)\u001b[0m\u001b[0;34m[\u001b[0m\u001b[0;34m\"term\"\u001b[0m\u001b[0;34m]\u001b[0m\u001b[0;34m\u001b[0m\u001b[0;34m\u001b[0m\u001b[0m\n\u001b[0m\u001b[1;32m      2\u001b[0m \u001b[0mis_g\u001b[0m \u001b[0;34m=\u001b[0m \u001b[0mresults\u001b[0m\u001b[0;34m[\u001b[0m\u001b[0;34m\"trackname\"\u001b[0m\u001b[0;34m]\u001b[0m\u001b[0;34m.\u001b[0m\u001b[0mstr\u001b[0m\u001b[0;34m.\u001b[0m\u001b[0mcontains\u001b[0m\u001b[0;34m(\u001b[0m\u001b[0;34m\"Gangnam Style\"\u001b[0m\u001b[0;34m)\u001b[0m\u001b[0;34m\u001b[0m\u001b[0;34m\u001b[0m\u001b[0m\n",
      "\u001b[0;31mNameError\u001b[0m: name 'response' is not defined"
     ]
    }
   ],
   "source": [
    "res = response.json()[\"term\"]\n",
    "is_g = results[\"trackname\"].str.contains(\"Gangnam Style\")"
   ]
  },
  {
   "cell_type": "code",
   "execution_count": null,
   "metadata": {},
   "outputs": [],
   "source": [
    "time.sleep(0.1)\n",
    "res_itunes1 = req.get('https://itunes.apple.com/country=US?',params={\"api-key\":key,\"q\":\"Clinton\"})\n",
    "res_itunes2 = req.get('https://itunes.apple.com/',params={\"api-key\":key,\"country\":\"US\",\"media\":\"movie\"})\n",
    "res_itunes2.json()"
   ]
  },
  {
   "cell_type": "markdown",
   "metadata": {},
   "source": [
    "## Authentication"
   ]
  },
  {
   "cell_type": "code",
   "execution_count": null,
   "metadata": {},
   "outputs": [],
   "source": [
    "requests.post('https://content.guardianapis.com/search?')\n"
   ]
  },
  {
   "cell_type": "markdown",
   "metadata": {},
   "source": [
    "### API Keys\n",
    "\n",
    "Many APIs use a _key_ or _token_ to identify the user.\n",
    "\n",
    "For instance, The Guardian, a British newspaper, provides a [web API](https://open-platform.theguardian.com/) to access their news articles. You need an API key to use their web APIs. You can get one for free [here](https://bonobo.capi.gutools.co.uk/register/developer).\n",
    "\n",
    "#### Storing API Keys\n",
    "\n",
    "Your API key is private and your responsibility. Treat it like a password. Keep it secret! **Don't commit it** in your git repo.\n",
    "\n",
    "In order to keep your API key separate from your code:\n",
    "1. Save the API key in a text file.\n",
    "2. Use Python to load the API key into a variable.\n",
    "\n",
    "Python's built-in `open()` function opens a file, and the `.readline()` method reads a line from a file. Often you'll see these used with `with`, which automatically closes the file at the end of the block:"
   ]
  },
  {
   "cell_type": "code",
   "execution_count": null,
   "metadata": {},
   "outputs": [],
   "source": [
    "def read_key(keyfile):\n",
    "    with open(keyfile) as f:\n",
    "        return f.readline().strip(\"\\n\")"
   ]
  },
  {
   "cell_type": "code",
   "execution_count": null,
   "metadata": {},
   "outputs": [],
   "source": [
    "ls"
   ]
  },
  {
   "cell_type": "code",
   "execution_count": null,
   "metadata": {},
   "outputs": [],
   "source": [
    "# Don't print out your actual API key\n",
    "print(read_key(\"keys/guardian_key.txt\"))\n",
    "\n",
    "key = read_key(\"keys/guardian_key.txt\")"
   ]
  },
  {
   "cell_type": "code",
   "execution_count": null,
   "metadata": {},
   "outputs": [],
   "source": [
    "res2 = req.get('https://content.guardianapis.com/search',params={\"api-key\":key,\"q\":\"Clinton\"})\n",
    "\n",
    "res2.raise_for_status()\n",
    "res3 = req.get('https://content.guardianapis.com/search',params={\"api-key\":key,\"q\":\"Clinton\",\"to-date\":\"2018-12-28\",\"order-date\":\"last-modified\"})\n",
    "type(res3.json())\n",
    "data = res3.json()\n",
    "data.keys()"
   ]
  },
  {
   "cell_type": "code",
   "execution_count": null,
   "metadata": {},
   "outputs": [],
   "source": [
    "data['response'].keys()"
   ]
  },
  {
   "cell_type": "code",
   "execution_count": null,
   "metadata": {},
   "outputs": [],
   "source": [
    "data['response']['status']"
   ]
  },
  {
   "cell_type": "code",
   "execution_count": null,
   "metadata": {},
   "outputs": [],
   "source": [
    "it = data.items()\n",
    "for key,val in it:\n",
    "    #print(\"{} = {}\".format(key, val)) \n",
    "    pass"
   ]
  },
  {
   "cell_type": "markdown",
   "metadata": {},
   "source": [
    "Now you can use the `key` variable anywhere you need the actual API key."
   ]
  },
  {
   "cell_type": "markdown",
   "metadata": {},
   "source": [
    "#### Querying The Guardian\n",
    "\n",
    "We've got our key, so let's use The Guardian API to answer our question about media coverage of Clinton and Trump.\n",
    "\n",
    "Let's start by trying to get all of the articles about one of the candidates."
   ]
  },
  {
   "cell_type": "code",
   "execution_count": null,
   "metadata": {},
   "outputs": [],
   "source": [
    "def get_article(page = 1):\n",
    "    res = req.get('https://content.guardianapis.com/search',params={\"api-key\":key,\"q\":\"Clinton\"})\n",
    "    res.raise_for_status()\n",
    "    return res.json()\n",
    "\n",
    "get_article()"
   ]
  },
  {
   "cell_type": "markdown",
   "metadata": {},
   "source": [
    "What are some ways this analysis could be improved?"
   ]
  },
  {
   "cell_type": "markdown",
   "metadata": {},
   "source": [
    "### OAuth\n",
    "\n",
    "[OAuth](https://en.wikipedia.org/wiki/OAuth) is a way to give an application access to data on a website or web API.\n",
    "\n",
    "You might run into OAuth if you use a web API where the data is private. For instance, Twitter provides a [web API](https://developer.twitter.com/en/docs.html) for managing your personal Twitter account. If you want to access the API from a Python script, first you have to use OAuth to tell Twitter that the script has permission to use your data.\n",
    "\n",
    "OAuth can operate in several different ways. As always, check the documentation for the web API you want to use in order to find out what you need to do.\n",
    "\n",
    "The simplest case of OAuth requires scripts to have a key or token from the web API provider. This is very similar to using an API key.\n",
    "\n",
    "For more complicated cases, the **requests-ouathlib** package (documentation [here](https://requests-oauthlib.readthedocs.io/en/latest/)) may help."
   ]
  },
  {
   "cell_type": "code",
   "execution_count": null,
   "metadata": {},
   "outputs": [],
   "source": []
  },
  {
   "cell_type": "markdown",
   "metadata": {},
   "source": [
    "## Undocumented Web APIs\n",
    "\n",
    "Many websites use undocumented web APIs to get data. For example:\n",
    "\n",
    "* [University of California Compensation](https://ucannualwage.ucop.edu/wage/)\n",
    "* [Yolo County Health Inspections](https://yoloeco.envisionconnect.com/)\n",
    "\n",
    "You can identify these websites by looking at requests in your browser's developer tools. In Firefox or Chrome, you can open the developer tools with `ctrl-shift-i`.\n",
    "\n",
    "Requests to web APIs almost always return JSON or XML data. By examining the browser requests, you can work out the endpoints and parameters, allowing you to use the API.\n",
    "\n",
    "**CAUTION:** Web APIs that are undocumented are often undocumented for a reason. Using an undocumented API may make someone angry or get you into legal trouble! Government and quasi-government websites (like the examples above) are probably okay, as long as you cache and rate-limit your requests. For everything else, find for an alternative or get permission first."
   ]
  },
  {
   "cell_type": "code",
   "execution_count": null,
   "metadata": {},
   "outputs": [],
   "source": [
    "r1 = req.get('https://ucannualwage.ucop.edu/wage/',params={'year':'2017'})\n",
    "r1.raise_for_status()\n",
    "r1"
   ]
  },
  {
   "cell_type": "code",
   "execution_count": null,
   "metadata": {},
   "outputs": [],
   "source": [
    "wage_req = req.get('https://ucannualwage.ucop.edu/wage/aue')\n",
    "wage_req.json()"
   ]
  },
  {
   "cell_type": "code",
   "execution_count": null,
   "metadata": {},
   "outputs": [],
   "source": []
  }
 ],
 "metadata": {
  "kernelspec": {
   "display_name": "Python 3",
   "language": "python",
   "name": "python3"
  },
  "language_info": {
   "codemirror_mode": {
    "name": "ipython",
    "version": 3
   },
   "file_extension": ".py",
   "mimetype": "text/x-python",
   "name": "python",
   "nbconvert_exporter": "python",
   "pygments_lexer": "ipython3",
   "version": "3.7.1"
  }
 },
 "nbformat": 4,
 "nbformat_minor": 2
}
