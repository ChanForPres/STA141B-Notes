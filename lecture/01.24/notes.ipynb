{
 "cells": [
  {
   "cell_type": "markdown",
   "metadata": {},
   "source": [
    "# STA 141B Lecture 6\n",
    "\n",
    "The class website is <https://github.com/2019-winter-ucdavis-sta141b/notes>\n",
    "\n",
    "### Announcements\n",
    "\n",
    "* Project groups and a link to the project repository will be posted this evening\n",
    "\n",
    "### Topics\n",
    "\n",
    "* Pandas\n",
    "* Static Visualizations\n",
    "    + matplotlib\n",
    "    + plotnine\n",
    "    + seaborn\n",
    "\n",
    "### Data Sets\n",
    "\n",
    "* [Milk Sales Dataset](https://www.ers.usda.gov/webdocs/DataFiles/48685/fluidmilk.xlsx?v=5010.6)\n",
    "* Dogs Dataset (included in the class repo)\n",
    "\n",
    "\n",
    "### References\n",
    "\n",
    "* Python for Data Analysis, Ch. 8, 9\n",
    "* [Python Data Science Handbook][PDSH], Ch. 3, 4\n",
    "\n",
    "[PDSH]: https://jakevdp.github.io/PythonDataScienceHandbook/\n",
    "[ProGit]: https://git-scm.com/book/"
   ]
  },
  {
   "cell_type": "markdown",
   "metadata": {},
   "source": [
    "## More About Packages and Modules\n",
    "\n",
    "Which of the built-in modules are important?\n",
    "\n",
    "Module      | Description\n",
    "----------- | -----------\n",
    "sys         | info about Python (version, etc)\n",
    "pdb         | Python debugger\n",
    "pathlib     | tools for file paths\n",
    "collections | additional data structures\n",
    "string      | string processing\n",
    "re          | regular expressions\n",
    "datetime    | date processing\n",
    "urlparse    | tools for URLs\n",
    "itertools   | tools for iterators\n",
    "functools   | tools for functions\n",
    "\n",
    "Python's built-in `math` and `statistics` modules are missing features we need for serious scientific computing, so we use the \"SciPy Stack\" instead, which includes `numpy`, `scipy`, and `pandas`."
   ]
  },
  {
   "cell_type": "markdown",
   "metadata": {},
   "source": [
    "## Tidying a Dataset\n",
    "\n",
    "Do Americans prefer low fat milk over whole milk?\n",
    "\n",
    "The USDA publishes data about dairy production. We can answer the question with the [Milk Sales Dataset](https://www.ers.usda.gov/webdocs/DataFiles/48685/fluidmilk.xlsx?v=5010.6).\n",
    "\n",
    "Many of Python's visualization packages expect [tidy data](https://vita.had.co.nz/papers/tidy-data.pdf), which means:\n",
    "\n",
    "1. Each feature must have its own column.\n",
    "2. Each observation must have its own row.\n",
    "3. Each value must have its own cell.\n",
    "\n",
    "Let's tidy up the Milk Sales Dataset so we can make a line plot that shows how milk sales have changed over time."
   ]
  },
  {
   "cell_type": "code",
   "execution_count": 14,
   "metadata": {},
   "outputs": [],
   "source": [
    "import numpy as np\n",
    "import pandas as pd"
   ]
  },
  {
   "cell_type": "code",
   "execution_count": 15,
   "metadata": {},
   "outputs": [
    {
     "data": {
      "text/plain": [
       "'/Users/channy/Desktop/Classes/STA141B/notes/lecture/01.24'"
      ]
     },
     "execution_count": 15,
     "metadata": {},
     "output_type": "execute_result"
    }
   ],
   "source": [
    "pwd"
   ]
  },
  {
   "cell_type": "code",
   "execution_count": 8,
   "metadata": {},
   "outputs": [
    {
     "data": {
      "text/html": [
       "<div>\n",
       "<style scoped>\n",
       "    .dataframe tbody tr th:only-of-type {\n",
       "        vertical-align: middle;\n",
       "    }\n",
       "\n",
       "    .dataframe tbody tr th {\n",
       "        vertical-align: top;\n",
       "    }\n",
       "\n",
       "    .dataframe thead th {\n",
       "        text-align: right;\n",
       "    }\n",
       "</style>\n",
       "<table border=\"1\" class=\"dataframe\">\n",
       "  <thead>\n",
       "    <tr style=\"text-align: right;\">\n",
       "      <th></th>\n",
       "      <th>Year</th>\n",
       "      <th>Whole</th>\n",
       "      <th>Reduced-fat (2 % milk fat)</th>\n",
       "      <th>Low-fat \n",
       "(1 % milk fat)</th>\n",
       "      <th>Skim</th>\n",
       "      <th>Flavored whole</th>\n",
       "      <th>Flavored, other than whole</th>\n",
       "      <th>Buttermilk</th>\n",
       "      <th>Eggnog</th>\n",
       "      <th>Total</th>\n",
       "    </tr>\n",
       "  </thead>\n",
       "  <tbody>\n",
       "    <tr>\n",
       "      <th>38</th>\n",
       "      <td>2013</td>\n",
       "      <td>13914.8</td>\n",
       "      <td>18525.5</td>\n",
       "      <td>7568.0</td>\n",
       "      <td>7137.2</td>\n",
       "      <td>585.8</td>\n",
       "      <td>3889.3</td>\n",
       "      <td>493.5</td>\n",
       "      <td>133.0</td>\n",
       "      <td>52285.761122</td>\n",
       "    </tr>\n",
       "    <tr>\n",
       "      <th>39</th>\n",
       "      <td>2014</td>\n",
       "      <td>13979.0</td>\n",
       "      <td>17970.8</td>\n",
       "      <td>7421.1</td>\n",
       "      <td>6358.8</td>\n",
       "      <td>555.3</td>\n",
       "      <td>3822.7</td>\n",
       "      <td>485.6</td>\n",
       "      <td>131.9</td>\n",
       "      <td>50773.151199</td>\n",
       "    </tr>\n",
       "    <tr>\n",
       "      <th>40</th>\n",
       "      <td>2015</td>\n",
       "      <td>14578.0</td>\n",
       "      <td>16846.7</td>\n",
       "      <td>7779.7</td>\n",
       "      <td>5682.0</td>\n",
       "      <td>593.5</td>\n",
       "      <td>3875.9</td>\n",
       "      <td>512.5</td>\n",
       "      <td>125.6</td>\n",
       "      <td>50037.811066</td>\n",
       "    </tr>\n",
       "    <tr>\n",
       "      <th>41</th>\n",
       "      <td>2016</td>\n",
       "      <td>15371.2</td>\n",
       "      <td>16595.3</td>\n",
       "      <td>7372.7</td>\n",
       "      <td>5052.3</td>\n",
       "      <td>634.9</td>\n",
       "      <td>3974.1</td>\n",
       "      <td>509.4</td>\n",
       "      <td>133.6</td>\n",
       "      <td>49699.917113</td>\n",
       "    </tr>\n",
       "    <tr>\n",
       "      <th>42</th>\n",
       "      <td>2017</td>\n",
       "      <td>15754.2</td>\n",
       "      <td>16134.0</td>\n",
       "      <td>6879.2</td>\n",
       "      <td>4451.3</td>\n",
       "      <td>678.2</td>\n",
       "      <td>4042.4</td>\n",
       "      <td>499.1</td>\n",
       "      <td>142.7</td>\n",
       "      <td>48628.692047</td>\n",
       "    </tr>\n",
       "  </tbody>\n",
       "</table>\n",
       "</div>"
      ],
      "text/plain": [
       "    Year    Whole  Reduced-fat (2 % milk fat)  Low-fat \\n(1 % milk fat)  \\\n",
       "38  2013  13914.8                     18525.5                    7568.0   \n",
       "39  2014  13979.0                     17970.8                    7421.1   \n",
       "40  2015  14578.0                     16846.7                    7779.7   \n",
       "41  2016  15371.2                     16595.3                    7372.7   \n",
       "42  2017  15754.2                     16134.0                    6879.2   \n",
       "\n",
       "      Skim  Flavored whole  Flavored, other than whole  Buttermilk  Eggnog  \\\n",
       "38  7137.2           585.8                      3889.3       493.5   133.0   \n",
       "39  6358.8           555.3                      3822.7       485.6   131.9   \n",
       "40  5682.0           593.5                      3875.9       512.5   125.6   \n",
       "41  5052.3           634.9                      3974.1       509.4   133.6   \n",
       "42  4451.3           678.2                      4042.4       499.1   142.7   \n",
       "\n",
       "          Total   \n",
       "38  52285.761122  \n",
       "39  50773.151199  \n",
       "40  50037.811066  \n",
       "41  49699.917113  \n",
       "42  48628.692047  "
      ]
     },
     "execution_count": 8,
     "metadata": {},
     "output_type": "execute_result"
    }
   ],
   "source": [
    "# skiprows 1 returns the labels\n",
    "milk = pd.read_excel(\"/Users/channy/Desktop/Classes/STA141B/notes/data/fluidmilk.xlsx\",skiprows=1)\n",
    "milk.columns.values[0]=\"Year\"\n",
    "milk.columns.values[-1]=milk.columns.values[-1].strip(\"1\")\n",
    "milk=milk[:-3]\n",
    "milk.tail()\n",
    "\n"
   ]
  },
  {
   "cell_type": "code",
   "execution_count": 16,
   "metadata": {},
   "outputs": [],
   "source": [
    "x = \"\"\n",
    "x."
   ]
  },
  {
   "cell_type": "code",
   "execution_count": 9,
   "metadata": {},
   "outputs": [
    {
     "data": {
      "text/plain": [
       "Year                           object\n",
       "Whole                         float64\n",
       "Reduced-fat (2 % milk fat)    float64\n",
       "Low-fat \\n(1 % milk fat)      float64\n",
       "Skim                          float64\n",
       "Flavored whole                float64\n",
       "Flavored, other than whole    float64\n",
       "Buttermilk                    float64\n",
       "Eggnog                        float64\n",
       "Total                         float64\n",
       "dtype: object"
      ]
     },
     "execution_count": 9,
     "metadata": {},
     "output_type": "execute_result"
    }
   ],
   "source": [
    "milk.dtypes"
   ]
  },
  {
   "cell_type": "code",
   "execution_count": 10,
   "metadata": {},
   "outputs": [
    {
     "data": {
      "text/plain": [
       "Year\n",
       "1975    1366.0\n",
       "1976    1475.0\n",
       "1977    1446.0\n",
       "1978    1359.0\n",
       "1979    1236.0\n",
       "1980    1075.0\n",
       "1981     843.0\n",
       "1982     710.0\n",
       "1983     749.0\n",
       "1984     907.0\n",
       "1985     882.0\n",
       "1986     851.0\n",
       "1987     830.0\n",
       "1988     816.0\n",
       "1989     770.0\n",
       "1990     691.0\n",
       "1991     672.0\n",
       "1992     689.0\n",
       "1993     690.0\n",
       "1994     702.0\n",
       "1995     704.0\n",
       "1996     662.0\n",
       "1997     676.0\n",
       "1998     788.0\n",
       "1999     877.0\n",
       "2000     948.0\n",
       "2001    1016.0\n",
       "2002    1005.9\n",
       "2003    1000.2\n",
       "2004     852.8\n",
       "2005     763.0\n",
       "2006     724.5\n",
       "2007     684.0\n",
       "2008     609.0\n",
       "2009     594.4\n",
       "2010     571.9\n",
       "2011     539.3\n",
       "2012     539.9\n",
       "2013     585.8\n",
       "2014     555.3\n",
       "2015     593.5\n",
       "2016     634.9\n",
       "2017     678.2\n",
       "dtype: float64"
      ]
     },
     "execution_count": 10,
     "metadata": {},
     "output_type": "execute_result"
    }
   ],
   "source": [
    "#print type(milk)\n",
    "milk = milk.set_index(\"Year\")\n",
    "milk = milk.stack() #rotate data, vertical to horizontal\n",
    "milk.reset_index()\n",
    "milk.loc[:,\"Flavored whole\"]\n",
    "#print type(milk)\n"
   ]
  },
  {
   "cell_type": "code",
   "execution_count": 11,
   "metadata": {},
   "outputs": [],
   "source": [
    "#milk.columns.values[[1,2]]= \"\""
   ]
  },
  {
   "cell_type": "markdown",
   "metadata": {},
   "source": [
    "## Visualization in Python\n",
    "\n",
    "![Python visualization landscape](img/visualization_landscape.png)\n",
    "_Image from [Jake VanderPlas](https://speakerdeck.com/jakevdp/pythons-visualization-landscape-pycon-2017). See [here](https://rougier.github.io/python-visualization-landscape/landscape-colors.html) for a version with links to all of the packages!_\n",
    "\n",
    "Our focus right now is _static_ visualization, where the visualization is a still image. So what packages should you actually use?\n",
    "\n",
    "* __plotnine__ is convenient if you already know ggplot2. It's relatively new, so there are some bugs and missing features.\n",
    "\n",
    "* __seaborn__ is designed specifically for making statistical plots. It's well-documented and stable. Most of the package's functions expect tidy data as input.\n",
    "\n",
    "* __matplotlib__ is useful to know, since many other packages use matplotlib under the hood. That said, using matplotlib alone to create plots is painful; matplotlib is _low-level_, so it's flexible but simple plots may take [5 lines of code or more][ex]. The matplotlib PyPlot tools may be convenient if you already know MATLAB.\n",
    "\n",
    "* __pandas__ provides built-in plotting functions, which can be convenient but are more limited than the packages above. They're also inconsistent about the expected format of the data.\n",
    "\n",
    "We don't have time to exhaustively cover visualization packages for Python. You're welcome to explore other packages while doing the assignments for this class.\n",
    "\n",
    "Later in the quarter, we'll see some of Python's _interactive_ visualization packages.\n",
    "\n",
    "[ex]: https://dsaber.com/2016/10/02/a-dramatic-tour-through-pythons-data-visualization-landscape-including-ggplot-and-altair/"
   ]
  },
  {
   "cell_type": "markdown",
   "metadata": {},
   "source": [
    "## Jupyter and matplotlib\n",
    "\n",
    "Jupyter notebooks can display most static visualizations and some interactive visualizations. If you're going to use visualization packages that depend on matplotlib, it's a good idea to set up your notebook by running:"
   ]
  },
  {
   "cell_type": "code",
   "execution_count": 12,
   "metadata": {},
   "outputs": [],
   "source": [
    "# Initialize matplotlib\n",
    "\n",
    "%matplotlib inline\n",
    "\n",
    "import matplotlib.pyplot as plt\n",
    "\n",
    "# We'll see what this code does later on:\n",
    "plt.rcParams[\"figure.figsize\"] = [10, 8] # default size of figure"
   ]
  },
  {
   "cell_type": "markdown",
   "metadata": {},
   "source": [
    "## Plotting the Milk Dataset with plotnine\n",
    "\n",
    "See the [plotnine documentation](https://plotnine.readthedocs.io/en/latest/)! Also see the [ggplot2 documentation](https://ggplot2.tidyverse.org/reference/) and the [ggplot2 cheatsheet](https://github.com/rstudio/cheatsheets/raw/master/data-visualization-2.1.pdf). If you run into a bug, you may want to check for a work-around on the [plotnine bug tracker](https://github.com/has2k1/plotnine/issues).\n",
    "\n",
    "We can avoid typing `plotnine.` over and over again by importing all of plotnine's objects directly into the global namespace:"
   ]
  },
  {
   "cell_type": "code",
   "execution_count": 13,
   "metadata": {},
   "outputs": [
    {
     "ename": "ModuleNotFoundError",
     "evalue": "No module named 'plotnine'",
     "output_type": "error",
     "traceback": [
      "\u001b[0;31m---------------------------------------------------------------------------\u001b[0m",
      "\u001b[0;31mModuleNotFoundError\u001b[0m                       Traceback (most recent call last)",
      "\u001b[0;32m<ipython-input-13-e36b44751b17>\u001b[0m in \u001b[0;36m<module>\u001b[0;34m\u001b[0m\n\u001b[0;32m----> 1\u001b[0;31m \u001b[0;32mfrom\u001b[0m \u001b[0mplotnine\u001b[0m \u001b[0;32mimport\u001b[0m \u001b[0;34m*\u001b[0m\u001b[0;34m\u001b[0m\u001b[0;34m\u001b[0m\u001b[0m\n\u001b[0m",
      "\u001b[0;31mModuleNotFoundError\u001b[0m: No module named 'plotnine'"
     ]
    }
   ],
   "source": [
    "from plotnine import *"
   ]
  },
  {
   "cell_type": "code",
   "execution_count": null,
   "metadata": {},
   "outputs": [],
   "source": [
    "milk.shape"
   ]
  },
  {
   "cell_type": "markdown",
   "metadata": {},
   "source": [
    "Importing other packages this way is not recommended, since names of objects in a package may overlap with names of objects you've defined.\n",
    "\n",
    "\n",
    "The syntax of plotnine closely follows the syntax of R's ggplot2. In R, we would write\n",
    "\n",
    "```r\n",
    "ggplot2(milk, aes(x = Year, y = Sales, color = Kind)) + geom_line() \n",
    "```\n",
    "\n",
    "One important difference is that plotnine requires that we quote variable names."
   ]
  },
  {
   "cell_type": "code",
   "execution_count": null,
   "metadata": {},
   "outputs": [],
   "source": []
  },
  {
   "cell_type": "markdown",
   "metadata": {},
   "source": [
    "plotnine includes the familiar `ggsave()` function for saving a visualization to an image file."
   ]
  },
  {
   "cell_type": "markdown",
   "metadata": {},
   "source": [
    "## Plotting the Milk Dataset with seaborn\n",
    "\n",
    "See the [seaborn documentation](https://seaborn.pydata.org/)!"
   ]
  },
  {
   "cell_type": "code",
   "execution_count": null,
   "metadata": {},
   "outputs": [],
   "source": [
    "import seaborn as sns"
   ]
  },
  {
   "cell_type": "code",
   "execution_count": null,
   "metadata": {},
   "outputs": [],
   "source": [
    "sns.lineplot(\"Year\",\"Sales\")"
   ]
  },
  {
   "cell_type": "code",
   "execution_count": null,
   "metadata": {},
   "outputs": [],
   "source": []
  },
  {
   "cell_type": "markdown",
   "metadata": {},
   "source": [
    "If we want to adjust the size and layout, we have to learn more about matplotlib."
   ]
  },
  {
   "cell_type": "markdown",
   "metadata": {},
   "source": [
    "## The Basics of matplotlib\n",
    "\n",
    "See the [matplotlib documentation](https://matplotlib.org/contents.html)!\n",
    "\n",
    "First, let's change the size of the figures in the notebook. To do that, we need to go back to the code we used to initialize matplotlib, and adjust `rcParams`, matplotlib's default settings.\n",
    "\n",
    "### Jargon\n",
    "\n",
    "The most important thing to know is matplotlib's jargon:\n",
    "\n",
    "* _Figure_: Container for plots.\n",
    "* _Axes_: Container for components of a plot (\"primitives\"). In other words, an axes is a single plot.\n",
    "* _Axis_: Container for components of an axis. An axis is a single axis.\n",
    "* _Tick_: A container for tick marks on an axis.\n",
    "\n",
    "All of the containers and the primitives are called _Artists_.\n",
    "\n",
    "### Saving Figures\n",
    "\n",
    "You can save figures to an image file with the `.savefig()` method.\n",
    "\n",
    "Some plotting functions return an Axes instead of a Figure. You can get the Figure that contains an Axes with the `.get_figure()` method. So to save our seaborn plot:"
   ]
  },
  {
   "cell_type": "code",
   "execution_count": null,
   "metadata": {},
   "outputs": [],
   "source": []
  },
  {
   "cell_type": "markdown",
   "metadata": {},
   "source": [
    "## Comparing Packages\n",
    "\n",
    "Let's use the familiar dogs dataset to further compare the different plotting packages."
   ]
  },
  {
   "cell_type": "code",
   "execution_count": null,
   "metadata": {},
   "outputs": [],
   "source": [
    "dogs = pd.read_csv(\"../../data/dogs_full.csv\")"
   ]
  },
  {
   "cell_type": "markdown",
   "metadata": {},
   "source": [
    "### Dot Plots\n",
    "\n",
    "Plot the number of dogs in each category."
   ]
  },
  {
   "cell_type": "code",
   "execution_count": null,
   "metadata": {},
   "outputs": [],
   "source": [
    "# Plotnine\n",
    "\n",
    "p = ggplot(dogs, aes(x = \"group\")) + geom_point(stat = \"count\")\n",
    "p + labs(title = \"Dog Groups\", x = \"Group\", y = \"Count\")"
   ]
  },
  {
   "cell_type": "code",
   "execution_count": null,
   "metadata": {},
   "outputs": [],
   "source": [
    "# Seaborn\n",
    "counts = dogs[\"group\"].value_counts()\n",
    "# Pandas calls the rownames an \"index\"\n",
    "\n",
    "ax = sns.stripplot(x = counts.index, y = counts)\n",
    "ax.set(title = \"Dog Groups\", xlabel = \"Group\", ylabel = \"Count\")\n",
    "ax.set_xticklabels(ax.get_xticklabels(), rotation = 45)"
   ]
  },
  {
   "cell_type": "code",
   "execution_count": null,
   "metadata": {
    "scrolled": false
   },
   "outputs": [],
   "source": [
    "# Pandas\n",
    "counts = dogs[\"group\"].value_counts()\n",
    "\n",
    "ax = counts.plot(style = \"o\")\n",
    "ax.set(title = \"Dog Groups\", xlabel = \"Group\", ylabel = \"Count\")"
   ]
  },
  {
   "cell_type": "markdown",
   "metadata": {},
   "source": [
    "### Box Plots\n",
    "\n",
    "Plot the distribution of dog longevity, grouped by category."
   ]
  },
  {
   "cell_type": "code",
   "execution_count": null,
   "metadata": {},
   "outputs": [],
   "source": [
    "# Plotnine\n",
    "\n",
    "p = ggplot(dogs, aes(\"group\", \"longevity\")) + geom_boxplot()\n",
    "p + labs(title = \"Dog Longevity\", x = \"Group\", y = \"Years\")"
   ]
  },
  {
   "cell_type": "code",
   "execution_count": null,
   "metadata": {},
   "outputs": [],
   "source": [
    "# Seaborn\n",
    "\n",
    "ax = sns.boxplot(x = \"group\", y = \"longevity\", data = dogs)\n",
    "ax.set(title = \"Dog Longevity\", xlabel = \"Group\", ylabel = \"Years\")\n",
    "ax.set_xticklabels(ax.get_xticklabels(), rotation = 45)"
   ]
  },
  {
   "cell_type": "code",
   "execution_count": null,
   "metadata": {},
   "outputs": [],
   "source": [
    "# Pandas\n",
    "\n",
    "ax = dogs.boxplot(by = \"group\", column = \"longevity\", rot = 45)\n",
    "# Set title and axis labels.\n",
    "ax.set(title = \"Dog Longevity\", xlabel = \"Group\", ylabel = \"Years\")\n",
    "# Hide grouping title Pandas adds.\n",
    "ax.get_figure().suptitle(\"\")"
   ]
  },
  {
   "cell_type": "markdown",
   "metadata": {},
   "source": [
    "### Scatter Plots"
   ]
  },
  {
   "cell_type": "markdown",
   "metadata": {},
   "source": [
    "Plot popularity against datadog score."
   ]
  },
  {
   "cell_type": "code",
   "execution_count": null,
   "metadata": {},
   "outputs": [],
   "source": [
    "# Plotnine\n",
    "\n",
    "p = ggplot(dogs, aes(\"datadog\", \"popularity\")) + geom_point()\n",
    "p + labs(title = \"Best in Show\", x = \"DataDog Score\", y = \"Popularity Rank\")\n",
    "# A bug in the latest version of plotnine prevents this line from working:\n",
    "# p + ylim(95, -5)"
   ]
  },
  {
   "cell_type": "code",
   "execution_count": null,
   "metadata": {},
   "outputs": [],
   "source": [
    "# Seaborn\n",
    "\n",
    "ax = sns.regplot(x = \"datadog\", y = \"popularity\", data = dogs, fit_reg = False)\n",
    "ax.set(title = \"Best in Show\", xlabel = \"DataDog Score\", ylabel = \"Popularity Rank\")\n",
    "ylim = reversed(ax.get_ylim())\n",
    "ax.set_ylim(ylim)"
   ]
  },
  {
   "cell_type": "code",
   "execution_count": null,
   "metadata": {},
   "outputs": [],
   "source": [
    "# Pandas\n",
    "\n",
    "ax = dogs.plot.scatter(x = \"datadog\", y = \"popularity\")\n",
    "ax.set(title = \"Best in Show\", xlabel = \"DataDog Score\", ylabel = \"Popularity Rank\")\n",
    "ylim = reversed(ax.get_ylim())\n",
    "ax.set_ylim(ylim)"
   ]
  }
 ],
 "metadata": {
  "kernelspec": {
   "display_name": "Python 3",
   "language": "python",
   "name": "python3"
  },
  "language_info": {
   "codemirror_mode": {
    "name": "ipython",
    "version": 3
   },
   "file_extension": ".py",
   "mimetype": "text/x-python",
   "name": "python",
   "nbconvert_exporter": "python",
   "pygments_lexer": "ipython3",
   "version": "3.7.1"
  }
 },
 "nbformat": 4,
 "nbformat_minor": 2
}
